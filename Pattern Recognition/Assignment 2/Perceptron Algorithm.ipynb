{
  "nbformat": 4,
  "nbformat_minor": 0,
  "metadata": {
    "kernelspec": {
      "display_name": "Python 3",
      "language": "python",
      "name": "python3"
    },
    "language_info": {
      "codemirror_mode": {
        "name": "ipython",
        "version": 3
      },
      "file_extension": ".py",
      "mimetype": "text/x-python",
      "name": "python",
      "nbconvert_exporter": "python",
      "pygments_lexer": "ipython3",
      "version": "3.7.4"
    },
    "colab": {
      "name": "160104004_pattern_assignment2.ipynb",
      "provenance": [],
      "collapsed_sections": []
    }
  },
  "cells": [
    {
      "cell_type": "markdown",
      "metadata": {
        "id": "-QZs3IpFiS_2",
        "colab_type": "text"
      },
      "source": [
        "Course Name: Pattern Recognition Lab <br>\n",
        "Course No : CSE 4214 <br>\n",
        "Experiment Name: Implementing the Perceptron algorithm for finding the weights of a Linear Discriminant function <br>\n",
        "Name: Md. Reasad Zaman Chowdhury <br>\n",
        "Section: A1 <br>\n",
        "Student ID: 160104004 <br>"
      ]
    },
    {
      "cell_type": "code",
      "metadata": {
        "id": "nMM1eeqsiS_3",
        "colab_type": "code",
        "colab": {}
      },
      "source": [
        "%matplotlib inline\n",
        "import matplotlib.pyplot as plt\n",
        "import numpy as np\n",
        "import pandas as pd"
      ],
      "execution_count": 1,
      "outputs": []
    },
    {
      "cell_type": "code",
      "metadata": {
        "id": "Zq6NYTtajwD1",
        "colab_type": "code",
        "colab": {
          "resources": {
            "http://localhost:8080/nbextensions/google.colab/files.js": {
              "data": "Ly8gQ29weXJpZ2h0IDIwMTcgR29vZ2xlIExMQwovLwovLyBMaWNlbnNlZCB1bmRlciB0aGUgQXBhY2hlIExpY2Vuc2UsIFZlcnNpb24gMi4wICh0aGUgIkxpY2Vuc2UiKTsKLy8geW91IG1heSBub3QgdXNlIHRoaXMgZmlsZSBleGNlcHQgaW4gY29tcGxpYW5jZSB3aXRoIHRoZSBMaWNlbnNlLgovLyBZb3UgbWF5IG9idGFpbiBhIGNvcHkgb2YgdGhlIExpY2Vuc2UgYXQKLy8KLy8gICAgICBodHRwOi8vd3d3LmFwYWNoZS5vcmcvbGljZW5zZXMvTElDRU5TRS0yLjAKLy8KLy8gVW5sZXNzIHJlcXVpcmVkIGJ5IGFwcGxpY2FibGUgbGF3IG9yIGFncmVlZCB0byBpbiB3cml0aW5nLCBzb2Z0d2FyZQovLyBkaXN0cmlidXRlZCB1bmRlciB0aGUgTGljZW5zZSBpcyBkaXN0cmlidXRlZCBvbiBhbiAiQVMgSVMiIEJBU0lTLAovLyBXSVRIT1VUIFdBUlJBTlRJRVMgT1IgQ09ORElUSU9OUyBPRiBBTlkgS0lORCwgZWl0aGVyIGV4cHJlc3Mgb3IgaW1wbGllZC4KLy8gU2VlIHRoZSBMaWNlbnNlIGZvciB0aGUgc3BlY2lmaWMgbGFuZ3VhZ2UgZ292ZXJuaW5nIHBlcm1pc3Npb25zIGFuZAovLyBsaW1pdGF0aW9ucyB1bmRlciB0aGUgTGljZW5zZS4KCi8qKgogKiBAZmlsZW92ZXJ2aWV3IEhlbHBlcnMgZm9yIGdvb2dsZS5jb2xhYiBQeXRob24gbW9kdWxlLgogKi8KKGZ1bmN0aW9uKHNjb3BlKSB7CmZ1bmN0aW9uIHNwYW4odGV4dCwgc3R5bGVBdHRyaWJ1dGVzID0ge30pIHsKICBjb25zdCBlbGVtZW50ID0gZG9jdW1lbnQuY3JlYXRlRWxlbWVudCgnc3BhbicpOwogIGVsZW1lbnQudGV4dENvbnRlbnQgPSB0ZXh0OwogIGZvciAoY29uc3Qga2V5IG9mIE9iamVjdC5rZXlzKHN0eWxlQXR0cmlidXRlcykpIHsKICAgIGVsZW1lbnQuc3R5bGVba2V5XSA9IHN0eWxlQXR0cmlidXRlc1trZXldOwogIH0KICByZXR1cm4gZWxlbWVudDsKfQoKLy8gTWF4IG51bWJlciBvZiBieXRlcyB3aGljaCB3aWxsIGJlIHVwbG9hZGVkIGF0IGEgdGltZS4KY29uc3QgTUFYX1BBWUxPQURfU0laRSA9IDEwMCAqIDEwMjQ7CgpmdW5jdGlvbiBfdXBsb2FkRmlsZXMoaW5wdXRJZCwgb3V0cHV0SWQpIHsKICBjb25zdCBzdGVwcyA9IHVwbG9hZEZpbGVzU3RlcChpbnB1dElkLCBvdXRwdXRJZCk7CiAgY29uc3Qgb3V0cHV0RWxlbWVudCA9IGRvY3VtZW50LmdldEVsZW1lbnRCeUlkKG91dHB1dElkKTsKICAvLyBDYWNoZSBzdGVwcyBvbiB0aGUgb3V0cHV0RWxlbWVudCB0byBtYWtlIGl0IGF2YWlsYWJsZSBmb3IgdGhlIG5leHQgY2FsbAogIC8vIHRvIHVwbG9hZEZpbGVzQ29udGludWUgZnJvbSBQeXRob24uCiAgb3V0cHV0RWxlbWVudC5zdGVwcyA9IHN0ZXBzOwoKICByZXR1cm4gX3VwbG9hZEZpbGVzQ29udGludWUob3V0cHV0SWQpOwp9CgovLyBUaGlzIGlzIHJvdWdobHkgYW4gYXN5bmMgZ2VuZXJhdG9yIChub3Qgc3VwcG9ydGVkIGluIHRoZSBicm93c2VyIHlldCksCi8vIHdoZXJlIHRoZXJlIGFyZSBtdWx0aXBsZSBhc3luY2hyb25vdXMgc3RlcHMgYW5kIHRoZSBQeXRob24gc2lkZSBpcyBnb2luZwovLyB0byBwb2xsIGZvciBjb21wbGV0aW9uIG9mIGVhY2ggc3RlcC4KLy8gVGhpcyB1c2VzIGEgUHJvbWlzZSB0byBibG9jayB0aGUgcHl0aG9uIHNpZGUgb24gY29tcGxldGlvbiBvZiBlYWNoIHN0ZXAsCi8vIHRoZW4gcGFzc2VzIHRoZSByZXN1bHQgb2YgdGhlIHByZXZpb3VzIHN0ZXAgYXMgdGhlIGlucHV0IHRvIHRoZSBuZXh0IHN0ZXAuCmZ1bmN0aW9uIF91cGxvYWRGaWxlc0NvbnRpbnVlKG91dHB1dElkKSB7CiAgY29uc3Qgb3V0cHV0RWxlbWVudCA9IGRvY3VtZW50LmdldEVsZW1lbnRCeUlkKG91dHB1dElkKTsKICBjb25zdCBzdGVwcyA9IG91dHB1dEVsZW1lbnQuc3RlcHM7CgogIGNvbnN0IG5leHQgPSBzdGVwcy5uZXh0KG91dHB1dEVsZW1lbnQubGFzdFByb21pc2VWYWx1ZSk7CiAgcmV0dXJuIFByb21pc2UucmVzb2x2ZShuZXh0LnZhbHVlLnByb21pc2UpLnRoZW4oKHZhbHVlKSA9PiB7CiAgICAvLyBDYWNoZSB0aGUgbGFzdCBwcm9taXNlIHZhbHVlIHRvIG1ha2UgaXQgYXZhaWxhYmxlIHRvIHRoZSBuZXh0CiAgICAvLyBzdGVwIG9mIHRoZSBnZW5lcmF0b3IuCiAgICBvdXRwdXRFbGVtZW50Lmxhc3RQcm9taXNlVmFsdWUgPSB2YWx1ZTsKICAgIHJldHVybiBuZXh0LnZhbHVlLnJlc3BvbnNlOwogIH0pOwp9CgovKioKICogR2VuZXJhdG9yIGZ1bmN0aW9uIHdoaWNoIGlzIGNhbGxlZCBiZXR3ZWVuIGVhY2ggYXN5bmMgc3RlcCBvZiB0aGUgdXBsb2FkCiAqIHByb2Nlc3MuCiAqIEBwYXJhbSB7c3RyaW5nfSBpbnB1dElkIEVsZW1lbnQgSUQgb2YgdGhlIGlucHV0IGZpbGUgcGlja2VyIGVsZW1lbnQuCiAqIEBwYXJhbSB7c3RyaW5nfSBvdXRwdXRJZCBFbGVtZW50IElEIG9mIHRoZSBvdXRwdXQgZGlzcGxheS4KICogQHJldHVybiB7IUl0ZXJhYmxlPCFPYmplY3Q+fSBJdGVyYWJsZSBvZiBuZXh0IHN0ZXBzLgogKi8KZnVuY3Rpb24qIHVwbG9hZEZpbGVzU3RlcChpbnB1dElkLCBvdXRwdXRJZCkgewogIGNvbnN0IGlucHV0RWxlbWVudCA9IGRvY3VtZW50LmdldEVsZW1lbnRCeUlkKGlucHV0SWQpOwogIGlucHV0RWxlbWVudC5kaXNhYmxlZCA9IGZhbHNlOwoKICBjb25zdCBvdXRwdXRFbGVtZW50ID0gZG9jdW1lbnQuZ2V0RWxlbWVudEJ5SWQob3V0cHV0SWQpOwogIG91dHB1dEVsZW1lbnQuaW5uZXJIVE1MID0gJyc7CgogIGNvbnN0IHBpY2tlZFByb21pc2UgPSBuZXcgUHJvbWlzZSgocmVzb2x2ZSkgPT4gewogICAgaW5wdXRFbGVtZW50LmFkZEV2ZW50TGlzdGVuZXIoJ2NoYW5nZScsIChlKSA9PiB7CiAgICAgIHJlc29sdmUoZS50YXJnZXQuZmlsZXMpOwogICAgfSk7CiAgfSk7CgogIGNvbnN0IGNhbmNlbCA9IGRvY3VtZW50LmNyZWF0ZUVsZW1lbnQoJ2J1dHRvbicpOwogIGlucHV0RWxlbWVudC5wYXJlbnRFbGVtZW50LmFwcGVuZENoaWxkKGNhbmNlbCk7CiAgY2FuY2VsLnRleHRDb250ZW50ID0gJ0NhbmNlbCB1cGxvYWQnOwogIGNvbnN0IGNhbmNlbFByb21pc2UgPSBuZXcgUHJvbWlzZSgocmVzb2x2ZSkgPT4gewogICAgY2FuY2VsLm9uY2xpY2sgPSAoKSA9PiB7CiAgICAgIHJlc29sdmUobnVsbCk7CiAgICB9OwogIH0pOwoKICAvLyBXYWl0IGZvciB0aGUgdXNlciB0byBwaWNrIHRoZSBmaWxlcy4KICBjb25zdCBmaWxlcyA9IHlpZWxkIHsKICAgIHByb21pc2U6IFByb21pc2UucmFjZShbcGlja2VkUHJvbWlzZSwgY2FuY2VsUHJvbWlzZV0pLAogICAgcmVzcG9uc2U6IHsKICAgICAgYWN0aW9uOiAnc3RhcnRpbmcnLAogICAgfQogIH07CgogIGNhbmNlbC5yZW1vdmUoKTsKCiAgLy8gRGlzYWJsZSB0aGUgaW5wdXQgZWxlbWVudCBzaW5jZSBmdXJ0aGVyIHBpY2tzIGFyZSBub3QgYWxsb3dlZC4KICBpbnB1dEVsZW1lbnQuZGlzYWJsZWQgPSB0cnVlOwoKICBpZiAoIWZpbGVzKSB7CiAgICByZXR1cm4gewogICAgICByZXNwb25zZTogewogICAgICAgIGFjdGlvbjogJ2NvbXBsZXRlJywKICAgICAgfQogICAgfTsKICB9CgogIGZvciAoY29uc3QgZmlsZSBvZiBmaWxlcykgewogICAgY29uc3QgbGkgPSBkb2N1bWVudC5jcmVhdGVFbGVtZW50KCdsaScpOwogICAgbGkuYXBwZW5kKHNwYW4oZmlsZS5uYW1lLCB7Zm9udFdlaWdodDogJ2JvbGQnfSkpOwogICAgbGkuYXBwZW5kKHNwYW4oCiAgICAgICAgYCgke2ZpbGUudHlwZSB8fCAnbi9hJ30pIC0gJHtmaWxlLnNpemV9IGJ5dGVzLCBgICsKICAgICAgICBgbGFzdCBtb2RpZmllZDogJHsKICAgICAgICAgICAgZmlsZS5sYXN0TW9kaWZpZWREYXRlID8gZmlsZS5sYXN0TW9kaWZpZWREYXRlLnRvTG9jYWxlRGF0ZVN0cmluZygpIDoKICAgICAgICAgICAgICAgICAgICAgICAgICAgICAgICAgICAgJ24vYSd9IC0gYCkpOwogICAgY29uc3QgcGVyY2VudCA9IHNwYW4oJzAlIGRvbmUnKTsKICAgIGxpLmFwcGVuZENoaWxkKHBlcmNlbnQpOwoKICAgIG91dHB1dEVsZW1lbnQuYXBwZW5kQ2hpbGQobGkpOwoKICAgIGNvbnN0IGZpbGVEYXRhUHJvbWlzZSA9IG5ldyBQcm9taXNlKChyZXNvbHZlKSA9PiB7CiAgICAgIGNvbnN0IHJlYWRlciA9IG5ldyBGaWxlUmVhZGVyKCk7CiAgICAgIHJlYWRlci5vbmxvYWQgPSAoZSkgPT4gewogICAgICAgIHJlc29sdmUoZS50YXJnZXQucmVzdWx0KTsKICAgICAgfTsKICAgICAgcmVhZGVyLnJlYWRBc0FycmF5QnVmZmVyKGZpbGUpOwogICAgfSk7CiAgICAvLyBXYWl0IGZvciB0aGUgZGF0YSB0byBiZSByZWFkeS4KICAgIGxldCBmaWxlRGF0YSA9IHlpZWxkIHsKICAgICAgcHJvbWlzZTogZmlsZURhdGFQcm9taXNlLAogICAgICByZXNwb25zZTogewogICAgICAgIGFjdGlvbjogJ2NvbnRpbnVlJywKICAgICAgfQogICAgfTsKCiAgICAvLyBVc2UgYSBjaHVua2VkIHNlbmRpbmcgdG8gYXZvaWQgbWVzc2FnZSBzaXplIGxpbWl0cy4gU2VlIGIvNjIxMTU2NjAuCiAgICBsZXQgcG9zaXRpb24gPSAwOwogICAgd2hpbGUgKHBvc2l0aW9uIDwgZmlsZURhdGEuYnl0ZUxlbmd0aCkgewogICAgICBjb25zdCBsZW5ndGggPSBNYXRoLm1pbihmaWxlRGF0YS5ieXRlTGVuZ3RoIC0gcG9zaXRpb24sIE1BWF9QQVlMT0FEX1NJWkUpOwogICAgICBjb25zdCBjaHVuayA9IG5ldyBVaW50OEFycmF5KGZpbGVEYXRhLCBwb3NpdGlvbiwgbGVuZ3RoKTsKICAgICAgcG9zaXRpb24gKz0gbGVuZ3RoOwoKICAgICAgY29uc3QgYmFzZTY0ID0gYnRvYShTdHJpbmcuZnJvbUNoYXJDb2RlLmFwcGx5KG51bGwsIGNodW5rKSk7CiAgICAgIHlpZWxkIHsKICAgICAgICByZXNwb25zZTogewogICAgICAgICAgYWN0aW9uOiAnYXBwZW5kJywKICAgICAgICAgIGZpbGU6IGZpbGUubmFtZSwKICAgICAgICAgIGRhdGE6IGJhc2U2NCwKICAgICAgICB9LAogICAgICB9OwogICAgICBwZXJjZW50LnRleHRDb250ZW50ID0KICAgICAgICAgIGAke01hdGgucm91bmQoKHBvc2l0aW9uIC8gZmlsZURhdGEuYnl0ZUxlbmd0aCkgKiAxMDApfSUgZG9uZWA7CiAgICB9CiAgfQoKICAvLyBBbGwgZG9uZS4KICB5aWVsZCB7CiAgICByZXNwb25zZTogewogICAgICBhY3Rpb246ICdjb21wbGV0ZScsCiAgICB9CiAgfTsKfQoKc2NvcGUuZ29vZ2xlID0gc2NvcGUuZ29vZ2xlIHx8IHt9OwpzY29wZS5nb29nbGUuY29sYWIgPSBzY29wZS5nb29nbGUuY29sYWIgfHwge307CnNjb3BlLmdvb2dsZS5jb2xhYi5fZmlsZXMgPSB7CiAgX3VwbG9hZEZpbGVzLAogIF91cGxvYWRGaWxlc0NvbnRpbnVlLAp9Owp9KShzZWxmKTsK",
              "ok": true,
              "headers": [
                [
                  "content-type",
                  "application/javascript"
                ]
              ],
              "status": 200,
              "status_text": ""
            }
          },
          "base_uri": "https://localhost:8080/",
          "height": 72
        },
        "outputId": "30ad08c0-d9b4-46c9-b57c-7bcdaaf6dd16"
      },
      "source": [
        "from google.colab import files\n",
        "uploaded = files.upload()"
      ],
      "execution_count": 2,
      "outputs": [
        {
          "output_type": "display_data",
          "data": {
            "text/html": [
              "\n",
              "     <input type=\"file\" id=\"files-5e42d617-791b-4cfb-960d-07b746641a6e\" name=\"files[]\" multiple disabled\n",
              "        style=\"border:none\" />\n",
              "     <output id=\"result-5e42d617-791b-4cfb-960d-07b746641a6e\">\n",
              "      Upload widget is only available when the cell has been executed in the\n",
              "      current browser session. Please rerun this cell to enable.\n",
              "      </output>\n",
              "      <script src=\"/nbextensions/google.colab/files.js\"></script> "
            ],
            "text/plain": [
              "<IPython.core.display.HTML object>"
            ]
          },
          "metadata": {
            "tags": []
          }
        },
        {
          "output_type": "stream",
          "text": [
            "Saving train.txt to train.txt\n"
          ],
          "name": "stdout"
        }
      ]
    },
    {
      "cell_type": "markdown",
      "metadata": {
        "id": "mZwnD4E5iTAA",
        "colab_type": "text"
      },
      "source": [
        "### Task 1: Plot All Sample Points"
      ]
    },
    {
      "cell_type": "code",
      "metadata": {
        "id": "mUDMdJP_iTAB",
        "colab_type": "code",
        "colab": {
          "base_uri": "https://localhost:8080/",
          "height": 136
        },
        "outputId": "d1f1f0e3-c8c2-4fcc-c71a-f540d031096a"
      },
      "source": [
        "#Reading training and testing dataset\n",
        "df_train = pd.read_csv('train.txt', sep=\" \" ,  header = None, dtype = 'float64')\n",
        "print(df_train)\n",
        "\n",
        "#converting into numpy array\n",
        "np_train = df_train.values"
      ],
      "execution_count": 3,
      "outputs": [
        {
          "output_type": "stream",
          "text": [
            "     0    1    2\n",
            "0  1.0  1.0  1.0\n",
            "1  1.0 -1.0  1.0\n",
            "2  2.0  2.5  2.0\n",
            "3  0.0  2.0  2.0\n",
            "4  2.0  3.0  2.0\n",
            "5  4.0  5.0  1.0\n"
          ],
          "name": "stdout"
        }
      ]
    },
    {
      "cell_type": "code",
      "metadata": {
        "id": "AO71bGMliTAI",
        "colab_type": "code",
        "colab": {}
      },
      "source": [
        "#separating class\n",
        "w1 = df_train[df_train[2] == 1]\n",
        "w2 = df_train[df_train[2] == 2]"
      ],
      "execution_count": 4,
      "outputs": []
    },
    {
      "cell_type": "code",
      "metadata": {
        "id": "DEI-X-lSiTAM",
        "colab_type": "code",
        "colab": {
          "base_uri": "https://localhost:8080/",
          "height": 265
        },
        "outputId": "c5f4c75c-6be5-4309-819b-4cc289e1f059"
      },
      "source": [
        "#scatter plot according to the class label\n",
        "fig, ax = plt.subplots()\n",
        "ax.scatter(w1[0], w1[1], color='blue', label='1')\n",
        "ax.scatter(w2[0], w2[1], color='red', label='2')\n",
        "ax.legend(title='Class', loc='lower right')\n",
        "plt.show()"
      ],
      "execution_count": 5,
      "outputs": [
        {
          "output_type": "display_data",
          "data": {
            "image/png": "[encoded data removed]",
            "text/plain": [
              "<Figure size 432x288 with 1 Axes>"
            ]
          },
          "metadata": {
            "tags": [],
            "needs_background": "light"
          }
        }
      ]
    },
    {
      "cell_type": "markdown",
      "metadata": {
        "id": "YbiMHejxiTAS",
        "colab_type": "text"
      },
      "source": [
        "### Task 2: Generate High Dimensional Sample Points and Normalize Any of the Class"
      ]
    },
    {
      "cell_type": "code",
      "metadata": {
        "id": "Rt50Q6DBiTAS",
        "colab_type": "code",
        "colab": {}
      },
      "source": [
        "def phi_function_and_normalization(arr):\n",
        "    \"\"\"\n",
        "    converts a lower dimention feature vector to a higher dimension and negate the samples of class 2\n",
        "    \"\"\"\n",
        "    \n",
        "    x1_2 = arr[0] ** 2\n",
        "    x2_2 = arr[1] ** 2\n",
        "    x1 = arr[0]\n",
        "    x2 = arr[1]\n",
        "    x1_x2 = x1 * x2\n",
        "    \n",
        "    if arr[2] == 1:\n",
        "        return  np.array([[x1_2, x2_2, x1_x2, x1, x2, 1]])\n",
        "    else:\n",
        "        return  np.array([[x1_2, x2_2, x1_x2, x1, x2, 1]]) * -1"
      ],
      "execution_count": 6,
      "outputs": []
    },
    {
      "cell_type": "code",
      "metadata": {
        "id": "U4uOky-diTAV",
        "colab_type": "code",
        "colab": {
          "base_uri": "https://localhost:8080/",
          "height": 119
        },
        "outputId": "65c2f891-85c0-4307-efc1-4e29dc5a1e7d"
      },
      "source": [
        "#apply phi function and normalization to training samples\n",
        "\n",
        "#creating empty array\n",
        "y = np.empty((0,6), float)\n",
        "   \n",
        "for i in range(len(np_train)):\n",
        "    temp = phi_function_and_normalization(np_train[i])\n",
        "    y = np.append(y, temp, axis = 0)\n",
        "        \n",
        "print(y)     \n",
        "        "
      ],
      "execution_count": 7,
      "outputs": [
        {
          "output_type": "stream",
          "text": [
            "[[ 1.    1.    1.    1.    1.    1.  ]\n",
            " [ 1.    1.   -1.    1.   -1.    1.  ]\n",
            " [-4.   -6.25 -5.   -2.   -2.5  -1.  ]\n",
            " [-0.   -4.   -0.   -0.   -2.   -1.  ]\n",
            " [-4.   -9.   -6.   -2.   -3.   -1.  ]\n",
            " [16.   25.   20.    4.    5.    1.  ]]\n"
          ],
          "name": "stdout"
        }
      ]
    },
    {
      "cell_type": "markdown",
      "metadata": {
        "id": "N9A4jHbpiTAX",
        "colab_type": "text"
      },
      "source": [
        "### Task 3: Use Perceptron Algorithm (both one at a time and many at a time) for finding the weight coefficients"
      ]
    },
    {
      "cell_type": "code",
      "metadata": {
        "id": "6wiRMpZUiTAY",
        "colab_type": "code",
        "colab": {}
      },
      "source": [
        "def one_at_a_time(y, w, alpha):\n",
        "    count = 0\n",
        "    itr = 0\n",
        "    len_y = y.shape[0]\n",
        "    \n",
        "    while count != len_y:\n",
        "        itr += 1\n",
        "        count = 0\n",
        "        \n",
        "        for i in range(len_y):\n",
        "            g = np.dot(y[i], np.transpose(w))\n",
        "            \n",
        "            if g <= 0:\n",
        "                w = w + alpha * y[i]\n",
        "            else:\n",
        "                count += 1\n",
        "       \n",
        "    return itr        "
      ],
      "execution_count": 8,
      "outputs": []
    },
    {
      "cell_type": "code",
      "metadata": {
        "id": "8MvWJ88HiTAa",
        "colab_type": "code",
        "colab": {}
      },
      "source": [
        "def many_at_a_time(y, w, alpha):\n",
        "    count = 0\n",
        "    itr = 0\n",
        "    len_y = y.shape[0]\n",
        "    \n",
        "    while count != len_y:\n",
        "        itr += 1\n",
        "        count = 0\n",
        "        y_miss = np.zeros((1, y.shape[1]))\n",
        "        \n",
        "        for i in range(len_y):\n",
        "            g = np.dot(y[i], np.transpose(w))\n",
        "            \n",
        "            if g <= 0:\n",
        "                y_miss = y_miss + y[i]\n",
        "            else:\n",
        "                count += 1\n",
        "        w = w + alpha * y_miss\n",
        "        \n",
        "    return itr        "
      ],
      "execution_count": 9,
      "outputs": []
    },
    {
      "cell_type": "markdown",
      "metadata": {
        "id": "xuE9p8AYiTAc",
        "colab_type": "text"
      },
      "source": [
        "### Task 4: Obtain and Visualize the Performance of Different Perceptron algorithm for Different Combination of Weight Initialization, Learning Rate"
      ]
    },
    {
      "cell_type": "code",
      "metadata": {
        "id": "aGjeGBqviTAc",
        "colab_type": "code",
        "colab": {
          "base_uri": "https://localhost:8080/",
          "height": 119
        },
        "outputId": "aa18f66f-0da9-41b9-cdb8-ea7c68d0d78e"
      },
      "source": [
        "np.random.seed(2)\n",
        "\n",
        "# weight initializations\n",
        "w_ones = np.ones((1, y.shape[1]))\n",
        "w_zeros = np.zeros((1, y.shape[1]))\n",
        "w_random = np.random.random((1, y.shape[1]))\n",
        "\n",
        "# learning rate \n",
        "alphas = np.arange(0.1, 1.1, 0.1)\n",
        "\n",
        "#list for output\n",
        "one_ones, one_zeros, one_random, many_ones, many_zeros, many_random = [], [], [], [], [], []\n",
        "\n",
        "for alpha in alphas:\n",
        "    one_ones.append( one_at_a_time(y, w_ones, alpha) )\n",
        "    one_zeros.append( one_at_a_time(y, w_zeros, alpha) )\n",
        "    one_random.append( one_at_a_time(y, w_random, alpha) )\n",
        "    many_ones.append( many_at_a_time(y, w_ones, alpha) )\n",
        "    many_zeros.append( many_at_a_time(y, w_zeros, alpha) )\n",
        "    many_random.append( many_at_a_time(y, w_random, alpha) )\n",
        "    \n",
        "print('one at a time with wights all ones:', one_ones)\n",
        "print('one at a time with wights all zeros:', one_zeros)\n",
        "print('one at a time with wights randomly initialized:', one_random)\n",
        "print('many at a time with wights all ones:', many_ones)\n",
        "print('many at a time with wights all zeros:', many_zeros)\n",
        "print('many at a time with wights randomly initialized:', many_random)"
      ],
      "execution_count": 10,
      "outputs": [
        {
          "output_type": "stream",
          "text": [
            "one at a time with wights all ones: [6, 147, 149, 149, 141, 157, 136, 136, 140, 141]\n",
            "one at a time with wights all zeros: [141, 141, 141, 141, 141, 141, 141, 141, 141, 141]\n",
            "one at a time with wights randomly initialized: [144, 154, 141, 153, 157, 157, 135, 136, 136, 136]\n",
            "many at a time with wights all ones: [102, 104, 91, 116, 105, 114, 91, 91, 105, 93]\n",
            "many at a time with wights all zeros: [105, 105, 92, 105, 92, 105, 105, 105, 105, 92]\n",
            "many at a time with wights randomly initialized: [95, 87, 92, 90, 88, 139, 138, 116, 118, 97]\n"
          ],
          "name": "stdout"
        }
      ]
    },
    {
      "cell_type": "code",
      "metadata": {
        "id": "LWGJhA9ciTAg",
        "colab_type": "code",
        "colab": {}
      },
      "source": [
        "#function for ploting the bar chart\n",
        "def plot_bar_chart(x, y1, y2, init_type):\n",
        "    \n",
        "    fig, ax = plt.subplots(figsize=(8,6))\n",
        "    ax.bar(x, y1, width=0.03, align='center', label='One at a time')\n",
        "    ax.bar(x+0.03, y2, width=0.03, align='center', label='Many at a time')\n",
        "\n",
        "    plt.xlabel('Learning Rate')\n",
        "    plt.ylabel('Iterations')\n",
        "    plt.title('Perceptron Comparison: '+init_type)\n",
        "    plt.xticks(x)\n",
        "    plt.legend()\n",
        "    plt.show()"
      ],
      "execution_count": 11,
      "outputs": []
    },
    {
      "cell_type": "code",
      "metadata": {
        "id": "3lr2yKAziTAi",
        "colab_type": "code",
        "colab": {
          "base_uri": "https://localhost:8080/",
          "height": 1000
        },
        "outputId": "555c9f32-7fa8-42cf-e37c-68f34b1441b0"
      },
      "source": [
        "#plotting bar charts\n",
        "\n",
        "plot_bar_chart(alphas, one_zeros, many_zeros, 'All zero initialization')\n",
        "plot_bar_chart(alphas, one_ones, many_ones, 'All one initialization')\n",
        "plot_bar_chart(alphas, one_random, many_random, 'Random initialization')"
      ],
      "execution_count": 12,
      "outputs": [
        {
          "output_type": "display_data",
          "data": {
            "image/png": "[encoded data removed]",
            "text/plain": [
              "<Figure size 576x432 with 1 Axes>"
            ]
          },
          "metadata": {
            "tags": [],
            "needs_background": "light"
          }
        },
        {
          "output_type": "display_data",
          "data": {
            "image/png": "[encoded data removed]",
            "text/plain": [
              "<Figure size 576x432 with 1 Axes>"
            ]
          },
          "metadata": {
            "tags": [],
            "needs_background": "light"
          }
        },
        {
          "output_type": "display_data",
          "data": {
            "image/png": "[encoded data removed]",
            "text/plain": [
              "<Figure size 576x432 with 1 Axes>"
            ]
          },
          "metadata": {
            "tags": [],
            "needs_background": "light"
          }
        }
      ]
    },
    {
      "cell_type": "code",
      "metadata": {
        "id": "BatFh9eMiTAl",
        "colab_type": "code",
        "colab": {}
      },
      "source": [
        ""
      ],
      "execution_count": 12,
      "outputs": []
    }
  ]
}