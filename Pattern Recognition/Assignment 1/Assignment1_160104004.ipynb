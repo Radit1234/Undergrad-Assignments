{
 "cells": [
  {
   "cell_type": "markdown",
   "metadata": {},
   "source": [
    "Course Name: Pattern Recognition Lab\n",
    "Course No : CSE 4214\n",
    "Experiment Name: Designing a Minimum Distance to Class Mean Classifier\n",
    "Name: Md. Reasad Zaman Chowdhury\n",
    "Section: A1\n",
    "Student ID: 160104004"
   ]
  },
  {
   "cell_type": "code",
   "execution_count": 1,
   "metadata": {},
   "outputs": [],
   "source": [
    "%matplotlib inline\n",
    "import matplotlib.pyplot as plt\n",
    "import numpy as np\n",
    "import pandas as pd"
   ]
  },
  {
   "cell_type": "code",
   "execution_count": 2,
   "metadata": {},
   "outputs": [],
   "source": [
    "#Reading training and testing dataset\n",
    "df_train = pd.read_csv('train.txt', sep=\" \" ,  header = None, dtype = 'Int64')\n",
    "df_test = pd.read_csv('test.txt', sep=\" \" ,  header = None, dtype = 'Int64')"
   ]
  },
  {
   "cell_type": "code",
   "execution_count": 3,
   "metadata": {},
   "outputs": [
    {
     "data": {
      "image/png": "[encoded data removed]",
      "text/plain": [
       "<Figure size 432x288 with 1 Axes>"
      ]
     },
     "metadata": {
      "needs_background": "light"
     },
     "output_type": "display_data"
    }
   ],
   "source": [
    "#slicing the features and labels from training samples\n",
    "x = np.array(df_train[0])\n",
    "y = np.array(df_train[1])\n",
    "label = np.array(df_train[2])\n",
    "\n",
    "cdict = {1: 'red', 2: 'blue'}\n",
    "\n",
    "#scatter plot according to the class label\n",
    "fig, ax = plt.subplots()\n",
    "for g in np.unique(label):\n",
    "    ix = np.where(label == g)\n",
    "    ax.scatter(x[ix], y[ix], c = cdict[g], label = 'class '+str(g))\n",
    "ax.legend()\n",
    "plt.show()\n"
   ]
  },
  {
   "cell_type": "code",
   "execution_count": 4,
   "metadata": {},
   "outputs": [
    {
     "name": "stdout",
     "output_type": "stream",
     "text": [
      "    0   1  2  3\n",
      "0  -1  -5  1  1\n",
      "1   3   2  1  1\n",
      "2  -2   1  2  2\n",
      "3   8   2  1  1\n",
      "4   6  -1  1  1\n",
      "5   0   2  1  2\n",
      "6  -3   0  2  2\n"
     ]
    }
   ],
   "source": [
    "#splitting 2 classes from dataframe\n",
    "w1 = np.array(df_train[df_train[2] == 1])\n",
    "w2 = np.array(df_train[df_train[2] == 2])\n",
    "\n",
    "#calculating mean of 2 classes\n",
    "u1 = np.array( [np.mean(w1[:,0]) , np.mean(w1[:,1])] )\n",
    "u2 = np.array( [np.mean(w2[:,0]) , np.mean(w2[:,1])] )\n",
    "\n",
    "#slicing unknown data from trainning samples \n",
    "x_test = np.array(df_test.iloc[:,0:2])\n",
    "true_label = df_test.iloc[:,2]\n",
    "predicted = []\n",
    "\n",
    "#calculate linear Discriminant Function for test samples\n",
    "for xi in x_test:\n",
    "    g1 = np.dot( np.transpose(u1) , xi) - 0.5 * np.dot(np.transpose(u1) , u1)\n",
    "    g2 = np.dot( np.transpose(u2) , xi) - 0.5 * np.dot(np.transpose(u2) , u2)\n",
    "    \n",
    "    if g1 > g2:\n",
    "        predicted.append(1)\n",
    "    else:\n",
    "        predicted.append(2)\n",
    "\n",
    "#marging the predicted class labels with the testing samples\n",
    "df_test[3] = predicted\n",
    "\n",
    "print(df_test)"
   ]
  },
  {
   "cell_type": "code",
   "execution_count": 5,
   "metadata": {},
   "outputs": [
    {
     "data": {
      "image/png": "[encoded data removed]",
      "text/plain": [
       "<Figure size 432x288 with 1 Axes>"
      ]
     },
     "metadata": {
      "needs_background": "light"
     },
     "output_type": "display_data"
    }
   ],
   "source": [
    "#ploting the traing and testing data points\n",
    "#scatter plot according to the class label\n",
    "\n",
    "fig, ax = plt.subplots()\n",
    "\n",
    "for g in np.unique(label):\n",
    "    ix = np.where(label == g)\n",
    "    ax.scatter(x[ix], y[ix], marker='.', c = cdict[g], label = 'train class '+str(g))    \n",
    "\n",
    "for g in np.unique(predicted):\n",
    "    ix = np.where(predicted == g)\n",
    "    ax.scatter(x_test[ix,0], x_test[ix,1], marker='^', c = cdict[g], label = 'test class '+str(g))\n",
    "\n",
    "ax.scatter(u1[0], u1[1], marker='*', c = 'r', label = 'mean class 1') \n",
    "ax.scatter(u2[0], u2[1], marker='*', c = 'b', label = 'mean class 2') \n",
    "\n",
    "ax.legend(loc='lower right')\n",
    "plt.show()\n"
   ]
  },
  {
   "cell_type": "code",
   "execution_count": 6,
   "metadata": {},
   "outputs": [],
   "source": [
    "#Decision Boundary\n",
    "\n",
    "m = np.transpose(u1) - np.transpose(u2)\n",
    "m1 = m[0]\n",
    "m2 = m[1]\n",
    "\n",
    "c = 0.5 * ( np.dot(np.transpose(u1), u1) - np.dot(np.transpose(u2) , u2) )\n",
    "\n",
    "x_db = []\n",
    "y_db = []\n",
    "\n",
    "for xi in range(-6, 9):\n",
    "    yi = - (m1 * xi + c) / m2\n",
    "    y_db.append(yi)\n",
    "    x_db.append(xi)\n"
   ]
  },
  {
   "cell_type": "code",
   "execution_count": 7,
   "metadata": {},
   "outputs": [
    {
     "data": {
      "image/png": "[encoded data removed]",
      "text/plain": [
       "<Figure size 432x288 with 1 Axes>"
      ]
     },
     "metadata": {
      "needs_background": "light"
     },
     "output_type": "display_data"
    }
   ],
   "source": [
    "#ploting the traing and testing data points along with the decision boundary\n",
    "\n",
    "\n",
    "fig, ax = plt.subplots()\n",
    "\n",
    "for g in np.unique(label):\n",
    "    ix = np.where(label == g)\n",
    "    ax.scatter(x[ix], y[ix], marker='.', c = cdict[g], label = 'train class '+str(g))    \n",
    "\n",
    "for g in np.unique(predicted):\n",
    "    ix = np.where(predicted == g)\n",
    "    ax.scatter(x_test[ix,0], x_test[ix,1], marker='^', c = cdict[g], label = 'test class '+str(g))\n",
    "\n",
    "ax.scatter(u1[0], u1[1], marker='*', c = 'r', label = 'mean class 1') \n",
    "ax.scatter(u2[0], u2[1], marker='*', c = 'b', label = 'mean class 2') \n",
    "\n",
    "ax.scatter(x_db, y_db, marker='.', c = 'g') \n",
    "\n",
    "ax.legend(loc='lower right')\n",
    "plt.show()\n"
   ]
  },
  {
   "cell_type": "code",
   "execution_count": 9,
   "metadata": {},
   "outputs": [
    {
     "name": "stdout",
     "output_type": "stream",
     "text": [
      "Accuracy: 85.71428571428571\n"
     ]
    }
   ],
   "source": [
    "#Printing the accuracy\n",
    "accuracy = ( len(true_label[true_label == predicted]) / len(true_label) ) * 100\n",
    "print(\"Accuracy:\",accuracy)"
   ]
  },
  {
   "cell_type": "code",
   "execution_count": null,
   "metadata": {},
   "outputs": [],
   "source": []
  }
 ],
 "metadata": {
  "kernelspec": {
   "display_name": "Python 3",
   "language": "python",
   "name": "python3"
  },
  "language_info": {
   "codemirror_mode": {
    "name": "ipython",
    "version": 3
   },
   "file_extension": ".py",
   "mimetype": "text/x-python",
   "name": "python",
   "nbconvert_exporter": "python",
   "pygments_lexer": "ipython3",
   "version": "3.7.4"
  }
 },
 "nbformat": 4,
 "nbformat_minor": 2
}
